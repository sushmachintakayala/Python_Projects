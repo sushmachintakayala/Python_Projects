{
 "cells": [
  {
   "cell_type": "code",
   "execution_count": 6,
   "id": "713230b5",
   "metadata": {},
   "outputs": [
    {
     "name": "stdout",
     "output_type": "stream",
     "text": [
      "Choose Heads(0) or Tails(1)(0/1): 0\n",
      "you chose 0\n",
      "computer chose 1\n",
      "You Lost!\n"
     ]
    }
   ],
   "source": [
    "import random\n",
    "coin={0:\"heads\",1:\"tails\"}\n",
    "user_choice=int(input(\"Choose Heads(0) or Tails(1)(0/1): \"))\n",
    "computer_choice=random.randint(0,1)\n",
    "print(f\"you chose {user_choice}\")\n",
    "print(f\"computer chose {computer_choice}\")\n",
    "if user_choice==computer_choice:\n",
    "      print(\"You won!\")\n",
    "else:\n",
    "      print(\"You Lost!\")\n",
    "    \n",
    "\n"
   ]
  },
  {
   "cell_type": "code",
   "execution_count": 9,
   "id": "98709650",
   "metadata": {},
   "outputs": [
    {
     "name": "stdout",
     "output_type": "stream",
     "text": [
      "0\n",
      "Heads\n"
     ]
    }
   ],
   "source": [
    "import random\n",
    "coin=random.randint(0,1)\n",
    "print(coin)\n",
    "if coin==0:\n",
    "    print(\"Heads\")\n",
    "else:\n",
    "    print(\"Tails\")"
   ]
  },
  {
   "cell_type": "code",
   "execution_count": null,
   "id": "da0ec908",
   "metadata": {},
   "outputs": [],
   "source": []
  },
  {
   "cell_type": "code",
   "execution_count": null,
   "id": "96f03a13",
   "metadata": {},
   "outputs": [],
   "source": []
  }
 ],
 "metadata": {
  "kernelspec": {
   "display_name": "Python 3 (ipykernel)",
   "language": "python",
   "name": "python3"
  },
  "language_info": {
   "codemirror_mode": {
    "name": "ipython",
    "version": 3
   },
   "file_extension": ".py",
   "mimetype": "text/x-python",
   "name": "python",
   "nbconvert_exporter": "python",
   "pygments_lexer": "ipython3",
   "version": "3.11.5"
  }
 },
 "nbformat": 4,
 "nbformat_minor": 5
}
