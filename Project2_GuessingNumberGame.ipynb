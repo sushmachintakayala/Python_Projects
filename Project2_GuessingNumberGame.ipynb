{
 "cells": [
  {
   "cell_type": "code",
   "execution_count": 15,
   "id": "9ea890c2",
   "metadata": {},
   "outputs": [
    {
     "ename": "SyntaxError",
     "evalue": "expected 'except' or 'finally' block (1472569669.py, line 12)",
     "output_type": "error",
     "traceback": [
      "\u001b[1;36m  Cell \u001b[1;32mIn[15], line 12\u001b[1;36m\u001b[0m\n\u001b[1;33m    break\u001b[0m\n\u001b[1;37m         ^\u001b[0m\n\u001b[1;31mSyntaxError\u001b[0m\u001b[1;31m:\u001b[0m expected 'except' or 'finally' block\n"
     ]
    }
   ],
   "source": [
    "import random\n",
    "Num = random.randint(1,100)\n",
    "while True:\n",
    "    try:\n",
    "        User=int(input(\"Guess the number between 1 and 100:\"))\n",
    "        if User>Num:\n",
    "            print(\"Too High\")\n",
    "        elif User<Num:\n",
    "            print(\"Too Low\")\n",
    "        else:\n",
    "            print(f\"Congratulations the number is {Num}\")\n",
    "        break\n",
    "    except:\n",
    "        print(\"Enter Valid Number\")"
   ]
  },
  {
   "cell_type": "code",
   "execution_count": null,
   "id": "222ff394",
   "metadata": {},
   "outputs": [],
   "source": [
    "6\n"
   ]
  },
  {
   "cell_type": "code",
   "execution_count": null,
   "id": "4f9085d3",
   "metadata": {},
   "outputs": [],
   "source": []
  }
 ],
 "metadata": {
  "kernelspec": {
   "display_name": "Python 3 (ipykernel)",
   "language": "python",
   "name": "python3"
  },
  "language_info": {
   "codemirror_mode": {
    "name": "ipython",
    "version": 3
   },
   "file_extension": ".py",
   "mimetype": "text/x-python",
   "name": "python",
   "nbconvert_exporter": "python",
   "pygments_lexer": "ipython3",
   "version": "3.11.5"
  }
 },
 "nbformat": 4,
 "nbformat_minor": 5
}
