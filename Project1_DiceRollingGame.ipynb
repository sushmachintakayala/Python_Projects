{
 "cells": [
  {
   "cell_type": "code",
   "execution_count": 9,
   "id": "e60ba762",
   "metadata": {},
   "outputs": [
    {
     "name": "stdout",
     "output_type": "stream",
     "text": [
      "Roll the Dice?\n",
      "Enter Yes or NO:Yes\n",
      "2 4\n"
     ]
    }
   ],
   "source": [
    "print(\"Roll the Dice?\")\n",
    "A = input(\"Enter Yes or NO:\")\n",
    "if A==\"Yes\":\n",
    "    import random\n",
    "    d1=random.randint(1,7)\n",
    "    d2=random.randint(1,7)\n",
    "    print(d1,d2)\n",
    "elif A==\"No\":\n",
    "    print(\"Thank You\")\n",
    "else:\n",
    "    print(\"Invalid Choice\")\n",
    "        \n",
    "\n"
   ]
  },
  {
   "cell_type": "code",
   "execution_count": null,
   "id": "24c704fb",
   "metadata": {},
   "outputs": [],
   "source": []
  },
  {
   "cell_type": "code",
   "execution_count": null,
   "id": "1f73962d",
   "metadata": {},
   "outputs": [],
   "source": []
  },
  {
   "cell_type": "code",
   "execution_count": null,
   "id": "e5b64963",
   "metadata": {},
   "outputs": [],
   "source": []
  }
 ],
 "metadata": {
  "kernelspec": {
   "display_name": "Python 3 (ipykernel)",
   "language": "python",
   "name": "python3"
  },
  "language_info": {
   "codemirror_mode": {
    "name": "ipython",
    "version": 3
   },
   "file_extension": ".py",
   "mimetype": "text/x-python",
   "name": "python",
   "nbconvert_exporter": "python",
   "pygments_lexer": "ipython3",
   "version": "3.11.5"
  }
 },
 "nbformat": 4,
 "nbformat_minor": 5
}
