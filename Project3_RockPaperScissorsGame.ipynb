{
 "cells": [
  {
   "cell_type": "code",
   "execution_count": 2,
   "id": "5c34102b",
   "metadata": {},
   "outputs": [
    {
     "name": "stdout",
     "output_type": "stream",
     "text": [
      "Choose rock(r),paper(p),scissor(s)s\n",
      "You chose s\n",
      "computer chose r\n",
      "you lose\n",
      "want to continue y/n:y\n",
      "Choose rock(r),paper(p),scissor(s)r\n",
      "You chose r\n",
      "computer chose p\n",
      "you lose\n",
      "want to continue y/n:n\n"
     ]
    }
   ],
   "source": [
    "import random\n",
    "choices=(\"r\",\"p\",\"s\")\n",
    "while True:\n",
    "    user_choice = input(\"Choose rock(r),paper(p),scissor(s)\").lower()\n",
    "    if user_choice not in choices:\n",
    "        print(\"Invalid Answer\")\n",
    "    computer=random.choice(choices)\n",
    "    print(f\"You chose {user_choice}\")\n",
    "    print(f\"computer chose {computer}\")\n",
    "    if user_choice==computer:\n",
    "        print(\"you win\")\n",
    "    else:\n",
    "        print(\"you lose\")\n",
    "    Ask=input(\"want to continue y/n:\")\n",
    "    if Ask==\"n\":\n",
    "        break\n",
    "    \n",
    "    \n",
    "\n",
    "    \n"
   ]
  },
  {
   "cell_type": "code",
   "execution_count": null,
   "id": "6eb25284",
   "metadata": {},
   "outputs": [],
   "source": []
  },
  {
   "cell_type": "code",
   "execution_count": null,
   "id": "775e5ff6",
   "metadata": {},
   "outputs": [],
   "source": []
  },
  {
   "cell_type": "code",
   "execution_count": null,
   "id": "77b7c27d",
   "metadata": {},
   "outputs": [],
   "source": []
  }
 ],
 "metadata": {
  "kernelspec": {
   "display_name": "Python 3 (ipykernel)",
   "language": "python",
   "name": "python3"
  },
  "language_info": {
   "codemirror_mode": {
    "name": "ipython",
    "version": 3
   },
   "file_extension": ".py",
   "mimetype": "text/x-python",
   "name": "python",
   "nbconvert_exporter": "python",
   "pygments_lexer": "ipython3",
   "version": "3.11.5"
  }
 },
 "nbformat": 4,
 "nbformat_minor": 5
}
